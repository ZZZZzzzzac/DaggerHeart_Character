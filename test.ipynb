{
 "cells": [
  {
   "cell_type": "code",
   "execution_count": 4,
   "id": "e9ee88a5",
   "metadata": {},
   "outputs": [
    {
     "name": "stdout",
     "output_type": "stream",
     "text": [
      "881\n",
      "881\n",
      "881\n",
      "913\n",
      "913\n",
      "933\n",
      "933\n",
      "953\n",
      "985\n",
      "1030\n",
      "1050\n",
      "1079\n",
      "1105\n"
     ]
    }
   ],
   "source": [
    "print(2186-1305)\n",
    "print(2186-1305)\n",
    "print(2186-1305)\n",
    "print(2218-1305)\n",
    "print(2218-1305)\n",
    "print(2238-1305)\n",
    "print(2238-1305)\n",
    "print(2258-1305)\n",
    "print(2290-1305)\n",
    "print(2335-1305)\n",
    "print(2355-1305)\n",
    "print(2384-1305)\n",
    "print(2410-1305)"
   ]
  }
 ],
 "metadata": {
  "kernelspec": {
   "display_name": "Python 3",
   "language": "python",
   "name": "python3"
  },
  "language_info": {
   "codemirror_mode": {
    "name": "ipython",
    "version": 3
   },
   "file_extension": ".py",
   "mimetype": "text/x-python",
   "name": "python",
   "nbconvert_exporter": "python",
   "pygments_lexer": "ipython3",
   "version": "3.10.8"
  }
 },
 "nbformat": 4,
 "nbformat_minor": 5
}
